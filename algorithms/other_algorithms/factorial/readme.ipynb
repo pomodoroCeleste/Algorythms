{
 "cells": [
  {
   "cell_type": "markdown",
   "metadata": {},
   "source": [
    "### Factorial Algorithm\n",
    "\n",
    "The factorial of a non-negative integer \\( n \\) is the product of all positive integers less than or equal to \\( n \\). It is denoted by \\( n! \\). Factorials are commonly used in permutations, combinations, and other areas of mathematics. Here is a step-by-step explanation of how the Factorial algorithm works:\n",
    "\n",
    "#### Definition:\n",
    "\n",
    "- The factorial of \\( n \\) (denoted as \\( n! \\)) is defined as:\n",
    "  - \\( n! = n \\times (n-1) \\times (n-2) \\times \\ldots \\times 1 \\)\n",
    "  - By convention, \\( 0! = 1 \\)\n",
    "\n",
    "#### Example:\n",
    "\n",
    "Consider calculating the factorial of \\( 5 \\) (denoted as \\( 5! \\)).\n",
    "\n",
    "1. **Calculate**:\n",
    "   - \\( 5! = 5 \\times 4 \\times 3 \\times 2 \\times 1 \\)\n",
    "   - \\( 5! = 120 \\)"
   ]
  },
  {
   "cell_type": "markdown",
   "metadata": {},
   "source": [
    "#### Time Complexity:\n",
    "\n",
    "- **Best Case**: O(n)\n",
    "- **Average Case**: O(n)\n",
    "- **Worst Case**: O(n)\n",
    "\n",
    "#### Space Complexity:\n",
    "\n",
    "- **Iterative Approach**: O(1) (constant space)\n",
    "- **Recursive Approach**: O(n) (due to the call stack)\n",
    "\n",
    "The factorial algorithm is straightforward and can be implemented using either an iterative or recursive approach. The iterative approach is generally preferred for large values of \\( n \\) to avoid stack overflow issues with recursion."
   ]
  }
 ],
 "metadata": {
  "language_info": {
   "name": "python"
  }
 },
 "nbformat": 4,
 "nbformat_minor": 2
}
