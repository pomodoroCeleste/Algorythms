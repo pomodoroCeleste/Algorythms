{
 "cells": [
  {
   "cell_type": "markdown",
   "metadata": {},
   "source": [
    "### Bubble Sort Algorithm\n",
    "\n",
    "Bubble Sort is a simple comparison-based sorting algorithm that repeatedly steps through the list, compares adjacent elements, and swaps them if they are in the wrong order. The pass through the list is repeated until the list is sorted. Here is a step-by-step explanation of how the Bubble Sort algorithm works:\n",
    "\n",
    "#### Steps of Bubble Sort:\n",
    "\n",
    "1. **Compare and Swap**:\n",
    "   - Starting from the beginning of the list, compare each pair of adjacent elements.\n",
    "   - If the elements are in the wrong order, swap them.\n",
    "\n",
    "2. **Repeat**:\n",
    "   - Repeat the process for the entire list.\n",
    "   - After each pass, the largest element in the unsorted portion of the list is moved to its correct position.\n",
    "\n",
    "3. **Stop**:\n",
    "   - The algorithm stops when no more swaps are needed, indicating that the list is sorted.\n",
    "\n",
    "#### Example:\n",
    "\n",
    "Consider the array `[5, 1, 4, 2, 8]`.\n",
    "\n",
    "1. **First Pass**:\n",
    "   - Compare `5` and `1`, swap them to get `[1, 5, 4, 2, 8]`.\n",
    "   - Compare `5` and `4`, swap them to get `[1, 4, 5, 2, 8]`.\n",
    "   - Compare `5` and `2`, swap them to get `[1, 4, 2, 5, 8]`.\n",
    "   - Compare `5` and `8`, no swap needed.\n",
    "\n",
    "2. **Second Pass**:\n",
    "   - Compare `1` and `4`, no swap needed.\n",
    "   - Compare `4` and `2`, swap them to get `[1, 2, 4, 5, 8]`.\n",
    "   - Compare `4` and `5`, no swap needed.\n",
    "   - Compare `5` and `8`, no swap needed.\n",
    "\n",
    "3. **Third Pass**:\n",
    "   - Compare `1` and `2`, no swap needed.\n",
    "   - Compare `2` and `4`, no swap needed.\n",
    "   - Compare `4` and `5`, no swap needed.\n",
    "   - Compare `5` and `8`, no swap needed.\n",
    "\n",
    "4. **Stop**:\n",
    "   - No more swaps are needed, the array is sorted: `[1, 2, 4, 5, 8]`.\n"
   ]
  },
  {
   "cell_type": "markdown",
   "metadata": {},
   "source": [
    "#### Time Complexity:\n",
    "\n",
    "- **Best Case**: O(n) (occurs when the array is already sorted)\n",
    "- **Average Case**: O(n^2)\n",
    "- **Worst Case**: O(n^2)\n",
    "\n",
    "#### Space Complexity:\n",
    "\n",
    "- **O(1)**: Requires a constant amount of additional space.\n",
    "\n",
    "Bubble Sort is a simple and intuitive sorting algorithm, but it is not efficient for large lists. It is mainly used for educational purposes and for small datasets where its simplicity is an advantage."
   ]
  }
 ],
 "metadata": {
  "language_info": {
   "name": "python"
  }
 },
 "nbformat": 4,
 "nbformat_minor": 2
}
